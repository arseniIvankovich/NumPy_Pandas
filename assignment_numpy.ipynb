{
 "cells": [
  {
   "cell_type": "markdown",
   "id": "d3df79dd",
   "metadata": {},
   "source": [
    "## Упражнения по библиотеке Numpy"
   ]
  },
  {
   "cell_type": "code",
   "execution_count": 3,
   "id": "76b9c43b",
   "metadata": {},
   "outputs": [],
   "source": [
    "import numpy as np\n",
    "import time\n"
   ]
  },
  {
   "cell_type": "code",
   "execution_count": 46,
   "id": "ad842203",
   "metadata": {},
   "outputs": [
    {
     "data": {
      "text/plain": [
       "array([[ -5,   1,   2,  -2,  -1,   1,  -5,   5, -10,   6],\n",
       "       [ -9,   2,  -3,   3,  -4,   8,  -5,   8,   1,   0],\n",
       "       [  4,   8,  -6,  -1,   7, -10,   3,  -1,  -1,  -3],\n",
       "       [ -9, -10,   7,  -2,   3,   9,   5,   0,  -2,  -3],\n",
       "       [ -7,  -4,   7,  -7,  -6,   7,   1,   2,   6,   3],\n",
       "       [  9,  -1,   8,   5, -10,  -6,   5,  -8,  -3,  -2],\n",
       "       [ -1,  -7,  -3,  -6,  -5,   9,  -4,  -2, -10,  -8],\n",
       "       [  0,   5,   5,  -3,   9,   0,   4, -10,  -9,   7],\n",
       "       [  3,  -7, -10,   3,  -4,  -4,  -8,   2,   1,  -3],\n",
       "       [  3,  -2,   1,   2,   1,  -6,  -3,  -3,   3,  -6]])"
      ]
     },
     "execution_count": 46,
     "metadata": {},
     "output_type": "execute_result"
    }
   ],
   "source": [
    "np.random.seed(1)\n",
    "arr = np.random.randint(-10, 10, size=(10, 10))\n",
    "arr"
   ]
  },
  {
   "cell_type": "markdown",
   "id": "03727b7c",
   "metadata": {},
   "source": [
    "**1.** Дан случайный массив, поменять знак у элементов, значения которых между 3 и 8"
   ]
  },
  {
   "cell_type": "code",
   "execution_count": 47,
   "id": "b89a7523",
   "metadata": {},
   "outputs": [
    {
     "data": {
      "text/plain": [
       "array([[ -5,   1,   2,  -2,  -1,   1,  -5,  -5, -10,  -6],\n",
       "       [ -9,   2,  -3,   3,  -4,   8,  -5,   8,   1,   0],\n",
       "       [ -4,   8,  -6,  -1,  -7, -10,   3,  -1,  -1,  -3],\n",
       "       [ -9, -10,  -7,  -2,   3,   9,  -5,   0,  -2,  -3],\n",
       "       [ -7,  -4,  -7,  -7,  -6,  -7,   1,   2,  -6,   3],\n",
       "       [  9,  -1,   8,  -5, -10,  -6,  -5,  -8,  -3,  -2],\n",
       "       [ -1,  -7,  -3,  -6,  -5,   9,  -4,  -2, -10,  -8],\n",
       "       [  0,  -5,  -5,  -3,   9,   0,  -4, -10,  -9,  -7],\n",
       "       [  3,  -7, -10,   3,  -4,  -4,  -8,   2,   1,  -3],\n",
       "       [  3,  -2,   1,   2,   1,  -6,  -3,  -3,   3,  -6]])"
      ]
     },
     "execution_count": 47,
     "metadata": {},
     "output_type": "execute_result"
    }
   ],
   "source": [
    "arr[(arr > 3) & (arr < 8)] *= -1\n",
    "arr"
   ]
  },
  {
   "cell_type": "markdown",
   "id": "5fa4abda",
   "metadata": {},
   "source": [
    "**2.** Заменить максимальный элемент случайного массива на 0"
   ]
  },
  {
   "cell_type": "code",
   "execution_count": 48,
   "id": "f2788a6e",
   "metadata": {},
   "outputs": [
    {
     "data": {
      "text/plain": [
       "array([[ -5,   1,   2,  -2,  -1,   1,  -5,  -5, -10,  -6],\n",
       "       [ -9,   2,  -3,   3,  -4,   8,  -5,   8,   1,   0],\n",
       "       [ -4,   8,  -6,  -1,  -7, -10,   3,  -1,  -1,  -3],\n",
       "       [ -9, -10,  -7,  -2,   3,   0,  -5,   0,  -2,  -3],\n",
       "       [ -7,  -4,  -7,  -7,  -6,  -7,   1,   2,  -6,   3],\n",
       "       [  0,  -1,   8,  -5, -10,  -6,  -5,  -8,  -3,  -2],\n",
       "       [ -1,  -7,  -3,  -6,  -5,   0,  -4,  -2, -10,  -8],\n",
       "       [  0,  -5,  -5,  -3,   0,   0,  -4, -10,  -9,  -7],\n",
       "       [  3,  -7, -10,   3,  -4,  -4,  -8,   2,   1,  -3],\n",
       "       [  3,  -2,   1,   2,   1,  -6,  -3,  -3,   3,  -6]])"
      ]
     },
     "execution_count": 48,
     "metadata": {},
     "output_type": "execute_result"
    }
   ],
   "source": [
    "indices = np.where(arr == np.max(arr))\n",
    "arr[indices] = 0\n",
    "arr"
   ]
  },
  {
   "cell_type": "markdown",
   "id": "3cac656b",
   "metadata": {},
   "source": [
    "**3.** Построить прямое произведение массивов (все комбинации с каждым элементом). На вход подается двумерный массив"
   ]
  },
  {
   "cell_type": "code",
   "execution_count": 190,
   "id": "2bd243bc",
   "metadata": {},
   "outputs": [
    {
     "name": "stdout",
     "output_type": "stream",
     "text": [
      "[[ 3  2 -1]\n",
      " [ 2 -1  3]\n",
      " [ 2 -1  4]\n",
      " [ 2  0  3]]\n"
     ]
    }
   ],
   "source": [
    "arr = np.random.randint(-1, 5, size=(4,3))\n",
    "print(arr)\n"
   ]
  },
  {
   "cell_type": "code",
   "execution_count": 189,
   "id": "3396b764",
   "metadata": {},
   "outputs": [
    {
     "data": {
      "text/plain": [
       "array([[2, 2],\n",
       "       [2, 3],\n",
       "       [2, 1],\n",
       "       [2, 3],\n",
       "       [2, 0],\n",
       "       [2, 2],\n",
       "       [3, 2],\n",
       "       [3, 3],\n",
       "       [3, 1],\n",
       "       [3, 3],\n",
       "       [3, 0],\n",
       "       [3, 2],\n",
       "       [1, 2],\n",
       "       [1, 3],\n",
       "       [1, 1],\n",
       "       [1, 3],\n",
       "       [1, 0],\n",
       "       [1, 2],\n",
       "       [3, 2],\n",
       "       [3, 3],\n",
       "       [3, 1],\n",
       "       [3, 3],\n",
       "       [3, 0],\n",
       "       [3, 2],\n",
       "       [0, 2],\n",
       "       [0, 3],\n",
       "       [0, 1],\n",
       "       [0, 3],\n",
       "       [0, 0],\n",
       "       [0, 2],\n",
       "       [2, 2],\n",
       "       [2, 3],\n",
       "       [2, 1],\n",
       "       [2, 3],\n",
       "       [2, 0],\n",
       "       [2, 2]])"
      ]
     },
     "execution_count": 189,
     "metadata": {},
     "output_type": "execute_result"
    }
   ],
   "source": [
    "np.array(np.meshgrid(arr.flatten(), arr.flatten())).T.reshape(-1, 2)"
   ]
  },
  {
   "cell_type": "markdown",
   "id": "674c9354",
   "metadata": {},
   "source": [
    "**4.** Даны 2 массива A (8x3) и B (2x2). Найти строки в A, которые содержат элементы из каждой строки в B, независимо от порядка элементов в B"
   ]
  },
  {
   "cell_type": "code",
   "execution_count": 220,
   "id": "00331e8c",
   "metadata": {},
   "outputs": [],
   "source": [
    "A = np.array([[1, 2, 3],\n",
    "              [4, 5, 6],\n",
    "              [7, 8, 9],\n",
    "              [3, 4, 2],\n",
    "              [4, 7, 5],\n",
    "              [6, 5, 4],\n",
    "              [2, 9, 7],\n",
    "              [5, 6, 2]])\n",
    "\n",
    "B = np.array([[2, 4],\n",
    "              [6, 5]])\n"
   ]
  },
  {
   "cell_type": "code",
   "execution_count": 224,
   "id": "69e059bb",
   "metadata": {},
   "outputs": [
    {
     "data": {
      "text/plain": [
       "array([[4, 5, 6],\n",
       "       [6, 5, 4],\n",
       "       [5, 6, 2]])"
      ]
     },
     "execution_count": 224,
     "metadata": {},
     "output_type": "execute_result"
    }
   ],
   "source": [
    "A[np.where(np.all(np.isin(A,B),axis=1))]"
   ]
  },
  {
   "cell_type": "markdown",
   "id": "fa46533b",
   "metadata": {},
   "source": [
    "**5.** Дана 10x3 матрица, найти строки из неравных значений (например строка [2,2,3] остается, строка [3,3,3] удаляется)"
   ]
  },
  {
   "cell_type": "code",
   "execution_count": 246,
   "id": "fa545b23",
   "metadata": {},
   "outputs": [],
   "source": [
    "A = np.array([[1, 2, 3],\n",
    "                   [2, 2, 3],\n",
    "                   [3, 3, 3],\n",
    "                   [4, 4, 4],\n",
    "                   [5, 5, 6],\n",
    "                   [6, 6, 7],\n",
    "                   [7, 7, 8],\n",
    "                   [8, 8, 8],\n",
    "                   [9, 9, 9],\n",
    "                   [1, 2, 3]])\n",
    "B = np.array([[1, 2, 3],\n",
    "                   [1, 2,3]])"
   ]
  },
  {
   "cell_type": "code",
   "execution_count": 277,
   "id": "5b9cfa38",
   "metadata": {},
   "outputs": [
    {
     "data": {
      "text/plain": [
       "array([[1, 2, 3],\n",
       "       [2, 2, 3],\n",
       "       [5, 5, 6],\n",
       "       [6, 6, 7],\n",
       "       [7, 7, 8],\n",
       "       [1, 2, 3]])"
      ]
     },
     "execution_count": 277,
     "metadata": {},
     "output_type": "execute_result"
    }
   ],
   "source": [
    "B = []\n",
    "for i in A:\n",
    "    row, count = np.unique(i,axis=0,return_counts=True)\n",
    "    if 3 not in count:\n",
    "        B.append(i)\n",
    "\n",
    "np.vstack(B)"
   ]
  },
  {
   "cell_type": "markdown",
   "id": "28f0d116",
   "metadata": {},
   "source": [
    "**6.** Дан двумерный массив. Удалить те строки, которые повторяются"
   ]
  },
  {
   "cell_type": "code",
   "execution_count": 278,
   "id": "83d2c0b7",
   "metadata": {},
   "outputs": [],
   "source": [
    "A = np.array([[1, 2, 3],\n",
    "                   [2, 2, 3],\n",
    "                   [3, 3, 3],\n",
    "                   [4, 4, 4],\n",
    "                   [5, 5, 6],\n",
    "                   [6, 6, 7],\n",
    "                   [7, 7, 8],\n",
    "                   [8, 8, 8],\n",
    "                   [9, 9, 9],\n",
    "                   [1, 2, 3]])"
   ]
  },
  {
   "cell_type": "code",
   "execution_count": 279,
   "id": "cfda2824",
   "metadata": {},
   "outputs": [
    {
     "data": {
      "text/plain": [
       "array([[1, 2, 3],\n",
       "       [2, 2, 3],\n",
       "       [3, 3, 3],\n",
       "       [4, 4, 4],\n",
       "       [5, 5, 6],\n",
       "       [6, 6, 7],\n",
       "       [7, 7, 8],\n",
       "       [8, 8, 8],\n",
       "       [9, 9, 9]])"
      ]
     },
     "execution_count": 279,
     "metadata": {},
     "output_type": "execute_result"
    }
   ],
   "source": [
    "np.unique(A, axis = 0)"
   ]
  },
  {
   "cell_type": "markdown",
   "id": "6daa9e37",
   "metadata": {},
   "source": [
    "______\n",
    "______"
   ]
  },
  {
   "cell_type": "markdown",
   "id": "cfbfcaff",
   "metadata": {},
   "source": [
    "Для каждой из следующих задач (1-5) нужно привести 2 реализации – одна без использования numpy (cчитайте, что там, где на входе или выходе должны быть numpy array, будут просто списки), а вторая полностью векторизованная с использованием numpy (без использования питоновских циклов/map/list comprehension).\n",
    "\n",
    "\n",
    "__Замечание 1.__ Можно считать, что все указанные объекты непустые (к примеру, в __задаче 1__ на диагонали матрицы есть ненулевые элементы).\n",
    "\n",
    "__Замечание 2.__ Для большинства задач решение занимает не больше 1-2 строк."
   ]
  },
  {
   "cell_type": "markdown",
   "id": "673cac7f",
   "metadata": {},
   "source": [
    "___"
   ]
  },
  {
   "cell_type": "markdown",
   "id": "ca6f585e",
   "metadata": {},
   "source": [
    "* __Задача 1__: Подсчитать произведение ненулевых элементов на диагонали прямоугольной матрицы.  \n",
    " Например, для X = np.array([[1, 0, 1], [2, 0, 2], [3, 0, 3], [4, 4, 4]]) ответ 3."
   ]
  },
  {
   "cell_type": "markdown",
   "id": "76eed915",
   "metadata": {},
   "source": [
    "* Numpy"
   ]
  },
  {
   "cell_type": "code",
   "execution_count": 323,
   "id": "d5f1ff32",
   "metadata": {},
   "outputs": [],
   "source": [
    "X = np.array([[4, 0, 1], [2, 0, 2], [3, 0, 3], [4, 4, 4]])\n",
    "Y = np.array([[4, 0, 1, 5], [2, 0, 2, 7], [3, 0, 3, 0]])"
   ]
  },
  {
   "cell_type": "code",
   "execution_count": 324,
   "id": "b4df70da",
   "metadata": {},
   "outputs": [
    {
     "data": {
      "text/plain": [
       "12"
      ]
     },
     "execution_count": 324,
     "metadata": {},
     "output_type": "execute_result"
    }
   ],
   "source": [
    "diagonal = np.diagonal(Y)\n",
    "not_null_elem = diagonal[diagonal != 0]\n",
    "np.prod(diagonal[diagonal != 0])"
   ]
  },
  {
   "cell_type": "code",
   "execution_count": 325,
   "id": "065862fc",
   "metadata": {},
   "outputs": [
    {
     "data": {
      "text/plain": [
       "12"
      ]
     },
     "execution_count": 325,
     "metadata": {},
     "output_type": "execute_result"
    }
   ],
   "source": [
    "diagonal = np.diagonal(X)\n",
    "not_null_elem = diagonal[diagonal != 0]\n",
    "np.prod(diagonal[diagonal != 0])"
   ]
  },
  {
   "cell_type": "markdown",
   "id": "7193458c",
   "metadata": {},
   "source": [
    "* Python"
   ]
  },
  {
   "cell_type": "code",
   "execution_count": 326,
   "id": "95e731e0",
   "metadata": {},
   "outputs": [],
   "source": [
    "X = [[4, 0, 1], [2, 0, 2], [3, 0, 3], [4, 4, 4]]\n",
    "Y = [[4, 0, 1, 5], [2, 0, 2, 7], [3, 0, 3, 0]]"
   ]
  },
  {
   "cell_type": "code",
   "execution_count": 327,
   "id": "5eba5f41",
   "metadata": {},
   "outputs": [
    {
     "name": "stdout",
     "output_type": "stream",
     "text": [
      "12\n"
     ]
    }
   ],
   "source": [
    "rng = min(len(Y), len(Y[0]))\n",
    "prod_diag = 1\n",
    "for i in range(rng):\n",
    "    if Y[i][i] != 0:\n",
    "        prod_diag *= Y[i][i]\n",
    "\n",
    "print(prod_diag)"
   ]
  },
  {
   "cell_type": "code",
   "execution_count": 328,
   "id": "7b9e776f",
   "metadata": {},
   "outputs": [
    {
     "name": "stdout",
     "output_type": "stream",
     "text": [
      "12\n"
     ]
    }
   ],
   "source": [
    "rng = min(len(X), len(X[0]))\n",
    "prod_diag = 1\n",
    "for i in range(rng):\n",
    "    if X[i][i] != 0:\n",
    "        prod_diag *= X[i][i]\n",
    "\n",
    "print(prod_diag)"
   ]
  },
  {
   "cell_type": "markdown",
   "id": "9fc51d41",
   "metadata": {},
   "source": [
    "* __Задача 2__: Даны два вектора x и y. Проверить, задают ли они одно и то же мультимножество.  \n",
    "  Например, для x = np.array([1, 2, 2, 4]), y = np.array([4, 2, 1, 2]) ответ True."
   ]
  },
  {
   "cell_type": "markdown",
   "id": "83648910",
   "metadata": {},
   "source": [
    "* Numpy"
   ]
  },
  {
   "cell_type": "code",
   "execution_count": 332,
   "id": "a809e02f",
   "metadata": {},
   "outputs": [],
   "source": [
    "x = np.array([1, 2, 2, 4]) \n",
    "y = np.array([4, 2, 1, 2])"
   ]
  },
  {
   "cell_type": "code",
   "execution_count": 333,
   "id": "c8080558",
   "metadata": {},
   "outputs": [
    {
     "data": {
      "text/plain": [
       "False"
      ]
     },
     "execution_count": 333,
     "metadata": {},
     "output_type": "execute_result"
    }
   ],
   "source": [
    "np.array_equal(np.sort(x), np.sort(y))"
   ]
  },
  {
   "cell_type": "markdown",
   "id": "7cc047c5",
   "metadata": {},
   "source": [
    "* Python"
   ]
  },
  {
   "cell_type": "code",
   "execution_count": 360,
   "id": "e486a314",
   "metadata": {},
   "outputs": [],
   "source": [
    "x = [1, 2, 2, 4]\n",
    "y = [4, 2, 1, 2]"
   ]
  },
  {
   "cell_type": "code",
   "execution_count": 361,
   "id": "b1977894",
   "metadata": {},
   "outputs": [
    {
     "data": {
      "text/plain": [
       "True"
      ]
     },
     "execution_count": 361,
     "metadata": {},
     "output_type": "execute_result"
    }
   ],
   "source": [
    "sorted(x) == sorted(y)"
   ]
  },
  {
   "cell_type": "markdown",
   "id": "b9c185c7",
   "metadata": {},
   "source": [
    "* __Задача 3__: Найти максимальный элемент в векторе x среди элементов, перед которыми стоит ноль. \n",
    " Например, для x = np.array([6, 2, 0, 3, 0, 0, 5, 7, 0]) ответ 5. "
   ]
  },
  {
   "cell_type": "markdown",
   "id": "8ceca245",
   "metadata": {},
   "source": [
    "* Numpy"
   ]
  },
  {
   "cell_type": "code",
   "execution_count": 3,
   "id": "b57df008",
   "metadata": {},
   "outputs": [],
   "source": [
    "x = np.array([6, 2, 0, 3, 0, 0, 5, 7, 0])"
   ]
  },
  {
   "cell_type": "code",
   "execution_count": 4,
   "id": "a0e21a6d",
   "metadata": {},
   "outputs": [
    {
     "data": {
      "text/plain": [
       "5"
      ]
     },
     "execution_count": 4,
     "metadata": {},
     "output_type": "execute_result"
    }
   ],
   "source": [
    "indices = np.where(x == 0)[0]\n",
    "indices = indices[indices < len(x)-1]\n",
    "np.max(x[indices+1])"
   ]
  },
  {
   "cell_type": "markdown",
   "id": "be55fe97",
   "metadata": {},
   "source": [
    "* Python\n"
   ]
  },
  {
   "cell_type": "code",
   "execution_count": 10,
   "id": "b232f87d",
   "metadata": {},
   "outputs": [],
   "source": [
    "x = [6, 2, 0, 3, 0, 0, 5, 7, 0]"
   ]
  },
  {
   "cell_type": "code",
   "execution_count": 16,
   "id": "c49291e8",
   "metadata": {},
   "outputs": [
    {
     "name": "stdout",
     "output_type": "stream",
     "text": [
      "5\n"
     ]
    }
   ],
   "source": [
    "max_value = 0\n",
    "for i in range(1, len(x)-1):\n",
    "    if x[i-1] == 0 and x[i] > max_value:\n",
    "        max_value = x[i]\n",
    "print(max_value)"
   ]
  },
  {
   "cell_type": "markdown",
   "id": "480be4ce",
   "metadata": {},
   "source": [
    "* __Задача 4__: Реализовать кодирование длин серий (Run-length encoding). Для некоторого вектора x необходимо вернуть кортеж из двух векторов одинаковой длины. Первый содержит числа, а второй - сколько раз их нужно повторить.  \n",
    " Например, для x = np.array([2, 2, 2, 3, 3, 3, 5]) ответ (np.array([2, 3, 5]), np.array([3, 3, 1]))."
   ]
  },
  {
   "cell_type": "markdown",
   "id": "721d47d4",
   "metadata": {},
   "source": [
    "* Numpy"
   ]
  },
  {
   "cell_type": "code",
   "execution_count": 33,
   "id": "5d0366a7",
   "metadata": {},
   "outputs": [],
   "source": [
    "x = np.array([2, 2, 2, 3, 3, 3, 5, 2])"
   ]
  },
  {
   "cell_type": "code",
   "execution_count": 45,
   "id": "dd08946d",
   "metadata": {},
   "outputs": [
    {
     "data": {
      "text/plain": [
       "(array([2, 3, 5, 2]), array([3, 3, 1, 1]))"
      ]
     },
     "execution_count": 45,
     "metadata": {},
     "output_type": "execute_result"
    }
   ],
   "source": [
    "change_indices = np.where(np.diff(x) != 0)[0]+1\n",
    "lengths = np.diff(np.concatenate(([0], change_indices, [len(x)])))\n",
    "values = x[np.concatenate(([0], change_indices))]\n",
    "\n",
    "(values, lengths)"
   ]
  },
  {
   "cell_type": "markdown",
   "id": "d934bdcc",
   "metadata": {},
   "source": [
    "* Python"
   ]
  },
  {
   "cell_type": "code",
   "execution_count": 48,
   "id": "22eccc21",
   "metadata": {},
   "outputs": [],
   "source": [
    "x = [2, 2, 2, 3, 3, 3, 5,2]"
   ]
  },
  {
   "cell_type": "code",
   "execution_count": 49,
   "id": "178dd6b5",
   "metadata": {},
   "outputs": [
    {
     "data": {
      "text/plain": [
       "([2, 3, 5, 2], [3, 3, 1, 1])"
      ]
     },
     "execution_count": 49,
     "metadata": {},
     "output_type": "execute_result"
    }
   ],
   "source": [
    "i = 0\n",
    "lengths = []\n",
    "values = []\n",
    "while (i <= len(x)-1):\n",
    "        count = 1\n",
    "        ch = x[i]\n",
    "        values.append(x[i])\n",
    "        j = i\n",
    "        while (j < len(x)-1):\n",
    "            if (x[j] == x[j+1]):\n",
    "                count += 1\n",
    "                j +=1 \n",
    "            else:\n",
    "                break\n",
    "        lengths.append(count)\n",
    "        i = j+1\n",
    "(values, lengths)"
   ]
  },
  {
   "cell_type": "markdown",
   "id": "077532ec",
   "metadata": {},
   "source": [
    "* __Задача 5__: Даны две выборки объектов - X и Y. Вычислить матрицу евклидовых расстояний между объектами. Сравните с функцией scipy.spatial.distance.cdist по скорости работы."
   ]
  },
  {
   "cell_type": "code",
   "execution_count": 147,
   "id": "2688c204",
   "metadata": {},
   "outputs": [
    {
     "data": {
      "text/plain": [
       "array([[6, 1, 0],\n",
       "       [0, 4, 8],\n",
       "       [5, 2, 2],\n",
       "       [4, 1, 6],\n",
       "       [9, 4, 5],\n",
       "       [8, 3, 4],\n",
       "       [6, 6, 9],\n",
       "       [5, 4, 0]])"
      ]
     },
     "execution_count": 147,
     "metadata": {},
     "output_type": "execute_result"
    }
   ],
   "source": [
    "X = np.random.randint(10, size=(10, 3))\n",
    "Y = np.random.randint(10, size=(8, 3))\n",
    "Y"
   ]
  },
  {
   "cell_type": "code",
   "execution_count": 148,
   "id": "2ef5eb1a",
   "metadata": {},
   "outputs": [
    {
     "data": {
      "text/plain": [
       "array([[7, 5, 9],\n",
       "       [0, 5, 6],\n",
       "       [0, 8, 9],\n",
       "       [1, 2, 2],\n",
       "       [7, 3, 8],\n",
       "       [5, 7, 0],\n",
       "       [8, 5, 6],\n",
       "       [3, 0, 3],\n",
       "       [1, 4, 7],\n",
       "       [6, 0, 8]])"
      ]
     },
     "execution_count": 148,
     "metadata": {},
     "output_type": "execute_result"
    }
   ],
   "source": [
    "X"
   ]
  },
  {
   "cell_type": "code",
   "execution_count": 149,
   "id": "fc2b8a5e",
   "metadata": {},
   "outputs": [
    {
     "name": "stdout",
     "output_type": "stream",
     "text": [
      "[[ 9.89949494  7.14142843  7.87400787  5.83095189  4.58257569  5.47722558\n",
      "   1.41421356  9.2736185 ]\n",
      " [ 9.38083152  2.23606798  7.07106781  5.65685425  9.11043358  8.48528137\n",
      "   6.78232998  7.87400787]\n",
      " [12.88409873  4.12310563 10.48808848  8.60232527 10.63014581 10.67707825\n",
      "   6.32455532 11.04536102]\n",
      " [ 5.47722558  6.40312424  4.          5.09901951  8.77496439  7.34846923\n",
      "   9.48683298  4.89897949]\n",
      " [ 8.30662386  7.07106781  6.40312424  4.12310563  3.74165739  4.12310563\n",
      "   3.31662479  8.30662386]\n",
      " [ 6.08276253  9.89949494  5.38516481  8.54400375  7.07106781  6.40312424\n",
      "   9.11043358  3.        ]\n",
      " [ 7.48331477  8.30662386  5.83095189  5.65685425  1.73205081  2.82842712\n",
      "   3.74165739  6.78232998]\n",
      " [ 4.35889894  7.07106781  3.          3.31662479  7.48331477  5.91607978\n",
      "   9.          5.38516481]\n",
      " [ 9.11043358  1.41421356  6.70820393  4.35889894  8.24621125  7.68114575\n",
      "   5.74456265  8.06225775]\n",
      " [ 8.06225775  7.21110255  6.40312424  3.          5.83095189  5.38516481\n",
      "   6.08276253  9.        ]]\n",
      "\n",
      "0.002511739730834961\n"
     ]
    }
   ],
   "source": [
    "from scipy.spatial.distance import cdist \n",
    "start = time.time()\n",
    "print(cdist(X, Y,metric='euclidean'))\n",
    "end = time.time()\n",
    "print()\n",
    "print (end - start)"
   ]
  },
  {
   "cell_type": "markdown",
   "id": "010e47b2",
   "metadata": {},
   "source": [
    "* Numpy"
   ]
  },
  {
   "cell_type": "code",
   "execution_count": 150,
   "id": "1e807797",
   "metadata": {},
   "outputs": [
    {
     "name": "stdout",
     "output_type": "stream",
     "text": [
      "[[ 9.89949494  7.14142843  7.87400787  5.83095189  4.58257569  5.47722558\n",
      "   1.41421356  9.2736185 ]\n",
      " [ 9.38083152  2.23606798  7.07106781  5.65685425  9.11043358  8.48528137\n",
      "   6.78232998  7.87400787]\n",
      " [12.88409873  4.12310563 10.48808848  8.60232527 10.63014581 10.67707825\n",
      "   6.32455532 11.04536102]\n",
      " [ 5.47722558  6.40312424  4.          5.09901951  8.77496439  7.34846923\n",
      "   9.48683298  4.89897949]\n",
      " [ 8.30662386  7.07106781  6.40312424  4.12310563  3.74165739  4.12310563\n",
      "   3.31662479  8.30662386]\n",
      " [ 6.08276253  9.89949494  5.38516481  8.54400375  7.07106781  6.40312424\n",
      "   9.11043358  3.        ]\n",
      " [ 7.48331477  8.30662386  5.83095189  5.65685425  1.73205081  2.82842712\n",
      "   3.74165739  6.78232998]\n",
      " [ 4.35889894  7.07106781  3.          3.31662479  7.48331477  5.91607978\n",
      "   9.          5.38516481]\n",
      " [ 9.11043358  1.41421356  6.70820393  4.35889894  8.24621125  7.68114575\n",
      "   5.74456265  8.06225775]\n",
      " [ 8.06225775  7.21110255  6.40312424  3.          5.83095189  5.38516481\n",
      "   6.08276253  9.        ]]\n",
      "\n",
      "0.0013103485107421875\n"
     ]
    }
   ],
   "source": [
    "start = time.time()\n",
    "distances = np.sqrt(np.sum((X[:, np.newaxis] - Y) ** 2, axis=2))\n",
    "print(distances)\n",
    "end = time.time()\n",
    "print()\n",
    "print(end - start)"
   ]
  },
  {
   "cell_type": "markdown",
   "id": "b5cd2c2d",
   "metadata": {},
   "source": [
    "* Python"
   ]
  },
  {
   "cell_type": "code",
   "execution_count": 132,
   "id": "b2e02514",
   "metadata": {},
   "outputs": [],
   "source": [
    "X = [[7, 5, 9],\n",
    "       [0, 5, 6],\n",
    "       [0, 8, 9],\n",
    "       [1, 2, 2],\n",
    "       [7, 3, 8],\n",
    "       [5, 7, 0],\n",
    "       [8, 5, 6],\n",
    "       [3, 0, 3],\n",
    "       [1, 4, 7],\n",
    "       [6, 0, 8]]\n",
    "\n",
    "Y  = [[6, 1, 0],\n",
    "       [0, 4, 8],\n",
    "       [5, 2, 2],\n",
    "       [4, 1, 6],\n",
    "       [9, 4, 5],\n",
    "       [8, 3, 4],\n",
    "       [6, 6, 9],\n",
    "       [5, 4, 0]]"
   ]
  },
  {
   "cell_type": "code",
   "execution_count": 151,
   "id": "b48b8e48",
   "metadata": {},
   "outputs": [
    {
     "name": "stdout",
     "output_type": "stream",
     "text": [
      "[9.899494936611665, 7.14142842854285, 7.874007874011811, 5.830951894845301, 4.58257569495584, 5.477225575051661, 1.4142135623730951, 9.273618495495704]\n",
      "[9.38083151964686, 2.23606797749979, 7.0710678118654755, 5.656854249492381, 9.1104335791443, 8.48528137423857, 6.782329983125268, 7.874007874011811]\n",
      "[12.884098726725126, 4.123105625617661, 10.488088481701515, 8.602325267042627, 10.63014581273465, 10.677078252031311, 6.324555320336759, 11.045361017187261]\n",
      "[5.477225575051661, 6.4031242374328485, 4.0, 5.0990195135927845, 8.774964387392123, 7.3484692283495345, 9.486832980505138, 4.898979485566356]\n",
      "[8.306623862918075, 7.0710678118654755, 6.4031242374328485, 4.123105625617661, 3.7416573867739413, 4.123105625617661, 3.3166247903554, 8.306623862918075]\n",
      "[6.082762530298219, 9.899494936611665, 5.385164807134504, 8.54400374531753, 7.0710678118654755, 6.4031242374328485, 9.1104335791443, 3.0]\n",
      "[7.483314773547883, 8.306623862918075, 5.830951894845301, 5.656854249492381, 1.7320508075688772, 2.8284271247461903, 3.7416573867739413, 6.782329983125268]\n",
      "[4.358898943540674, 7.0710678118654755, 3.0, 3.3166247903554, 7.483314773547883, 5.916079783099616, 9.0, 5.385164807134504]\n",
      "[9.1104335791443, 1.4142135623730951, 6.708203932499369, 4.358898943540674, 8.246211251235321, 7.681145747868608, 5.744562646538029, 8.06225774829855]\n",
      "[8.06225774829855, 7.211102550927978, 6.4031242374328485, 3.0, 5.830951894845301, 5.385164807134504, 6.082762530298219, 9.0]\n",
      "\n",
      "0.002964019775390625\n"
     ]
    }
   ],
   "source": [
    "def euclidean_distance(x, y):\n",
    "    squared_diff = sum((i - j) ** 2 for i, j in zip(x, y))\n",
    "    return squared_diff ** 0.5\n",
    "\n",
    "start = time.time()\n",
    "distances = [[euclidean_distance(x, y) for y in Y] for x in X]\n",
    "end = time.time()\n",
    "\n",
    "for i in distances:\n",
    "    print(i)\n",
    "    \n",
    "print()\n",
    "print(end - start)"
   ]
  },
  {
   "cell_type": "markdown",
   "id": "9ea9eaed",
   "metadata": {},
   "source": []
  },
  {
   "cell_type": "markdown",
   "id": "973e8064",
   "metadata": {},
   "source": [
    "_______\n",
    "________"
   ]
  },
  {
   "cell_type": "markdown",
   "id": "1104acb7",
   "metadata": {},
   "source": [
    "* #### __Задача 6__: CrunchieMunchies __*__\n",
    "\n",
    "Вы работаете в отделе маркетинга пищевой компании MyCrunch, которая разрабатывает новый вид вкусных, полезных злаков под названием **CrunchieMunchies**.\n",
    "\n",
    "Вы хотите продемонстрировать потребителям, насколько полезны ваши хлопья по сравнению с другими ведущими брендами, поэтому вы собрали данные о питании нескольких разных конкурентов.\n",
    "\n",
    "Ваша задача - использовать вычисления Numpy для анализа этих данных и доказать, что ваши **СrunchieMunchies** - самый здоровый выбор для потребителей.\n"
   ]
  },
  {
   "cell_type": "code",
   "execution_count": 77,
   "id": "10a77f8d",
   "metadata": {},
   "outputs": [],
   "source": [
    "import numpy as np"
   ]
  },
  {
   "cell_type": "markdown",
   "id": "ab87cb03",
   "metadata": {},
   "source": [
    "1. Просмотрите файл cereal.csv. Этот файл содержит количества калорий для различных марок хлопьев. Загрузите данные из файла и сохраните их как calorie_stats."
   ]
  },
  {
   "cell_type": "code",
   "execution_count": 6,
   "id": "9681ebf2",
   "metadata": {},
   "outputs": [
    {
     "data": {
      "text/plain": [
       "array([ 70., 120.,  70.,  50., 110., 110., 110., 130.,  90.,  90., 120.,\n",
       "       110., 120., 110., 110., 110., 100., 110., 110., 110., 100., 110.,\n",
       "       100., 100., 110., 110., 100., 120., 120., 110., 100., 110., 100.,\n",
       "       110., 120., 120., 110., 110., 110., 140., 110., 100., 110., 100.,\n",
       "       150., 150., 160., 100., 120., 140.,  90., 130., 120., 100.,  50.,\n",
       "        50., 100., 100., 120., 100.,  90., 110., 110.,  80.,  90.,  90.,\n",
       "       110., 110.,  90., 110., 140., 100., 110., 110., 100., 100., 110.])"
      ]
     },
     "execution_count": 6,
     "metadata": {},
     "output_type": "execute_result"
    }
   ],
   "source": [
    "calorie_stats = np.loadtxt(\"./data/cereal.csv\", delimiter=\",\")\n",
    "calorie_stats"
   ]
  },
  {
   "cell_type": "markdown",
   "id": "139cfbd8",
   "metadata": {},
   "source": [
    "2. В одной порции CrunchieMunchies содержится 60 калорий. Насколько выше среднее количество калорий у ваших конкурентов?\n",
    "\n",
    "Сохраните ответ в переменной average_calories и распечатайте переменную в терминале"
   ]
  },
  {
   "cell_type": "code",
   "execution_count": 156,
   "id": "7036d240",
   "metadata": {},
   "outputs": [
    {
     "data": {
      "text/plain": [
       "106.88311688311688"
      ]
     },
     "execution_count": 156,
     "metadata": {},
     "output_type": "execute_result"
    }
   ],
   "source": [
    "average_calories = np.mean(calorie_stats)\n",
    "average_calories"
   ]
  },
  {
   "cell_type": "markdown",
   "id": "b2ddb4cd",
   "metadata": {},
   "source": [
    "3. Корректно ли среднее количество калорий отражает распределение набора данных? Давайте отсортируем данные и посмотрим.\n",
    "\n",
    "Отсортируйте данные и сохраните результат в переменной calorie_stats_sorted. Распечатайте отсортированную информацию"
   ]
  },
  {
   "cell_type": "code",
   "execution_count": 157,
   "id": "46eeb4ed",
   "metadata": {},
   "outputs": [
    {
     "data": {
      "text/plain": [
       "array([ 50.,  50.,  50.,  70.,  70.,  80.,  90.,  90.,  90.,  90.,  90.,\n",
       "        90.,  90., 100., 100., 100., 100., 100., 100., 100., 100., 100.,\n",
       "       100., 100., 100., 100., 100., 100., 100., 100., 110., 110., 110.,\n",
       "       110., 110., 110., 110., 110., 110., 110., 110., 110., 110., 110.,\n",
       "       110., 110., 110., 110., 110., 110., 110., 110., 110., 110., 110.,\n",
       "       110., 110., 110., 110., 120., 120., 120., 120., 120., 120., 120.,\n",
       "       120., 120., 120., 130., 130., 140., 140., 140., 150., 150., 160.])"
      ]
     },
     "execution_count": 157,
     "metadata": {},
     "output_type": "execute_result"
    }
   ],
   "source": [
    "calorie_stats_sorted = np.sort(calorie_stats)\n",
    "calorie_stats_sorted"
   ]
  },
  {
   "cell_type": "markdown",
   "id": "4dc74116",
   "metadata": {},
   "source": [
    "4. Похоже, что большинство значений выше среднего. Давайте посмотрим, является ли медиана наиболее корректным показателем набора данных.\n",
    "\n",
    "Вычислите медиану набора данных и сохраните свой ответ в median_calories. Выведите медиану, чтобы вы могли видеть, как она сравнивается со средним значением."
   ]
  },
  {
   "cell_type": "code",
   "execution_count": 158,
   "id": "b56627c3",
   "metadata": {},
   "outputs": [
    {
     "data": {
      "text/plain": [
       "110.0"
      ]
     },
     "execution_count": 158,
     "metadata": {},
     "output_type": "execute_result"
    }
   ],
   "source": [
    "median_calories = np.median(calorie_stats)\n",
    "median_calories"
   ]
  },
  {
   "cell_type": "markdown",
   "id": "ca1e5016",
   "metadata": {},
   "source": [
    "Среденее - сумма всех значений на количество. Медиана - занчение, кторое делит набор данных на две половины. При нечетном количестве данных: значение посередине, при четном: среднее значение двух значений, находящихся посередине.\n",
    "Среднее - лучше отражает все значения выборки,так как при расчете использует все значение ее. Но не устойчива к выбросам. Медиана же устойчива к выбросам. "
   ]
  },
  {
   "cell_type": "markdown",
   "id": "a63ab72f",
   "metadata": {},
   "source": [
    "5. В то время как медиана показывает, что по крайней мере половина наших значений составляет более 100 калорий, было бы более впечатляюще показать, что значительная часть конкурентов имеет более высокое количество калорий, чем CrunchieMunchies.\n",
    "\n",
    "Рассчитайте различные процентили и распечатайте их, пока не найдете наименьший процентиль, превышающий 60 калорий. Сохраните это значение в переменной nth_percentile."
   ]
  },
  {
   "cell_type": "code",
   "execution_count": 14,
   "id": "fe80ce03",
   "metadata": {},
   "outputs": [
    {
     "name": "stdout",
     "output_type": "stream",
     "text": [
      "100.0\n",
      "110.0\n",
      "70.0\n"
     ]
    }
   ],
   "source": [
    "first_percentile=np.percentile(calorie_stats,30)\n",
    "second_percentile=np.percentile(calorie_stats,75)\n",
    "third_percentile=np.percentile(calorie_stats,4)\n",
    "nth_percentile = 4\n",
    "print(first_percentile)\n",
    "print(second_percentile)\n",
    "print(third_percentile)"
   ]
  },
  {
   "cell_type": "markdown",
   "id": "a2a3c5aa",
   "metadata": {},
   "source": [
    "6. Хотя процентиль показывает нам, что у большинства конкурентов количество калорий намного выше, это неудобная концепция для использования в маркетинговых материалах.\n",
    "\n",
    "Вместо этого давайте подсчитаем процент хлопьев, в которых содержится более 60 калорий на порцию. Сохраните свой ответ в переменной more_calories и распечатайте его"
   ]
  },
  {
   "cell_type": "code",
   "execution_count": 15,
   "id": "ade0f6ea",
   "metadata": {},
   "outputs": [
    {
     "data": {
      "text/plain": [
       "96"
      ]
     },
     "execution_count": 15,
     "metadata": {},
     "output_type": "execute_result"
    }
   ],
   "source": [
    "more_calories = 100 - nth_percentile\n",
    "more_calories"
   ]
  },
  {
   "cell_type": "markdown",
   "id": "1735d65b",
   "metadata": {},
   "source": [
    "7. Это действительно высокий процент. Это будет очень полезно, когда мы будем продвигать CrunchieMunchies. Но один вопрос заключается в том, насколько велики различия в наборе данных? Можем ли мы сделать обобщение, что в большинстве злаков содержится около 100 калорий или разброс еще больше?\n",
    "\n",
    "Рассчитайте величину отклонения, найдя стандартное отклонение, Сохраните свой ответ в calorie_std и распечатайте на терминале. Как мы можем включить эту ценность в наш анализ?"
   ]
  },
  {
   "cell_type": "code",
   "execution_count": 164,
   "id": "85c8df1f",
   "metadata": {},
   "outputs": [
    {
     "data": {
      "text/plain": [
       "19.35718533390827"
      ]
     },
     "execution_count": 164,
     "metadata": {},
     "output_type": "execute_result"
    }
   ],
   "source": [
    "calorie_std=np.std(calorie_stats)\n",
    "calorie_std"
   ]
  },
  {
   "cell_type": "markdown",
   "id": "2968952d",
   "metadata": {},
   "source": [
    "Нормальное отклонение показывает на сколько данные в наборе данных разбросаны относительно среднего значения. Если значение мало, то сконцентрированы вокруг среднего, если велико, то далеко от среднего. \n",
    "Здесь же отклонение относительно малое, что показывает, что данные в основном сконцентрированы близко к среднему."
   ]
  },
  {
   "cell_type": "markdown",
   "id": "037455c5",
   "metadata": {},
   "source": [
    "8. Напишите короткий абзац, в котором кратко изложите свои выводы и то, как, по вашему мнению, эти данные могут быть использованы в интересах Mycrunch при маркетинге CrunchieMunchies."
   ]
  },
  {
   "cell_type": "markdown",
   "id": "d1866bf1",
   "metadata": {},
   "source": [
    "Используя такие метрики как среднее, процентиль и нормальное отклонение, можно показать, что калорийность CrunchieMunchies меньше чем у конкурентов. Так как среднее = 107 показывает, что калорийность хлопьев у большинства конкурентов больше чем 60 калорий. Стандартное же отклонение, подвердило гипотезу, что калорийность у конкурентов больше чем 60 и близко к среднему. "
   ]
  }
 ],
 "metadata": {
  "kernelspec": {
   "display_name": "Python 3 (ipykernel)",
   "language": "python",
   "name": "python3"
  },
  "language_info": {
   "codemirror_mode": {
    "name": "ipython",
    "version": 3
   },
   "file_extension": ".py",
   "mimetype": "text/x-python",
   "name": "python",
   "nbconvert_exporter": "python",
   "pygments_lexer": "ipython3",
   "version": "3.10.12"
  }
 },
 "nbformat": 4,
 "nbformat_minor": 5
}
